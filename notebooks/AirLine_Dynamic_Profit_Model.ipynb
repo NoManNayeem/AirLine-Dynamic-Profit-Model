{
  "nbformat": 4,
  "nbformat_minor": 0,
  "metadata": {
    "colab": {
      "provenance": []
    },
    "kernelspec": {
      "name": "python3",
      "display_name": "Python 3"
    },
    "language_info": {
      "name": "python"
    }
  },
  "cells": [
    {
      "cell_type": "markdown",
      "source": [
        "# Problem Objective\n",
        "\n",
        "**To predict the optimal pricing for airline tickets to maximize revenue, utilizing flight data and demand patterns.**\n"
      ],
      "metadata": {
        "id": "sF9d54o1sU4l"
      }
    },
    {
      "cell_type": "markdown",
      "source": [
        "## Step 1: Creating a Synthetic Dataset\n",
        "For our first step, we'll create a synthetic dataset to simulate the conditions and data you'd encounter in a real-world scenario involving airline pricing. This dataset will include features such as flight date, time of day, origin and destination airports, current ticket price, number of seats available, and an estimation of demand level. These factors are critical in determining optimal pricing strategies for maximizing revenue.\n",
        "\n",
        "We'll generate data for 10,000 flights with the following attributes:\n",
        "\n",
        "- Flight ID: Unique identifier for each flight.\n",
        "- Date: Date of the flight.\n",
        "- Day of Week: The day of the week the flight occurs.\n",
        "- Time of Day: Categorized as Morning, Afternoon, or Evening.\n",
        "- Duration: Duration of the flight in hours.\n",
        "- Origin and Destination: Simulated airport codes to represent where the flight begins and ends.\n",
        "- Price: Current ticket price for the flight.\n",
        "- Seats Available: The number of seats available on the flight.\n",
        "- Demand Level: A categorization of expected demand (High, Medium, Low).\n",
        "- Holiday: Whether the flight is close to a holiday (Yes, No).\n",
        "- Historical Load Factor: The historical percentage of seats filled.\n",
        "- Competitor Price: Average price of competitors' flights for similar routes.\n"
      ],
      "metadata": {
        "id": "F2kqi5vDtXU2"
      }
    },
    {
      "cell_type": "code",
      "execution_count": 1,
      "metadata": {
        "id": "xKGBaWn6sMwd",
        "colab": {
          "base_uri": "https://localhost:8080/"
        },
        "outputId": "fbffc9a2-c62b-4bb3-f283-c4c630068adc"
      },
      "outputs": [
        {
          "output_type": "stream",
          "name": "stdout",
          "text": [
            "   Flight ID                Date  Day of Week Time of Day   Duration  \\\n",
            "0          1 2024-01-01 07:00:00            0     Morning   4.279654   \n",
            "1          2 2024-01-02 03:00:00            1     Evening   2.391107   \n",
            "2          3 2024-01-02 18:00:00            1     Evening  10.268100   \n",
            "3          4 2024-01-03 05:00:00            2     Morning   4.983998   \n",
            "4          5 2024-01-03 13:00:00            2   Afternoon   8.265167   \n",
            "\n",
            "      Origin     Destination       Price  Seats Available  \\\n",
            "0  Origin_55   Destination_6   95.717913              113   \n",
            "1  Origin_66  Destination_67  383.451859              186   \n",
            "2  Origin_60  Destination_10  997.114967              212   \n",
            "3  Origin_24  Destination_12  408.387064               51   \n",
            "4  Origin_92  Destination_97  364.175603              292   \n",
            "\n",
            "   Historical Load Factor  Competitor Price  \n",
            "0                0.698695        199.030694  \n",
            "1                0.737009        358.193670  \n",
            "2                0.699790        855.965979  \n",
            "3                0.787973        393.864508  \n",
            "4                0.881270        290.715033  \n"
          ]
        }
      ],
      "source": [
        "import pandas as pd\n",
        "import numpy as np\n",
        "\n",
        "def generate_synthetic_dataset(num_records=10000):\n",
        "    np.random.seed(42)  # For reproducibility\n",
        "\n",
        "    # Generate dates and times\n",
        "    start_date = pd.to_datetime('2024-01-01')\n",
        "    hours_increment = np.random.randint(1, 24, num_records)\n",
        "    dates = start_date + pd.to_timedelta(hours_increment.cumsum(), unit='h')\n",
        "\n",
        "    # Generate other features\n",
        "    day_of_week = dates.dayofweek\n",
        "    time_of_day = ['Morning' if 5 <= dt.hour < 12 else 'Afternoon' if 12 <= dt.hour < 18 else 'Evening' for dt in dates]\n",
        "    duration = np.random.uniform(1, 12, num_records)\n",
        "    origins = ['Origin_' + str(np.random.randint(1, 101)) for _ in range(num_records)]\n",
        "    destinations = ['Destination_' + str(np.random.randint(1, 101)) for _ in range(num_records)]\n",
        "    base_price = np.random.uniform(100, 1000, num_records)\n",
        "    seats_available = np.random.randint(50, 300, num_records)\n",
        "    demand_factor = np.random.uniform(0.5, 1.5, num_records)\n",
        "    holiday_effect = [1.5 if dt.month == 12 or dt.month == 7 else 1.0 for dt in dates]\n",
        "    historical_load_factor = np.random.uniform(0.6, 0.95, num_records)\n",
        "    competitor_price = base_price * np.random.uniform(0.8, 1.2, num_records)\n",
        "\n",
        "    # Adjust price based on demand, holiday effect\n",
        "    prices = base_price * demand_factor * holiday_effect\n",
        "\n",
        "    # Assemble the dataset\n",
        "    dataset = pd.DataFrame({\n",
        "        'Flight ID': range(1, num_records + 1),\n",
        "        'Date': dates,\n",
        "        'Day of Week': day_of_week,\n",
        "        'Time of Day': time_of_day,\n",
        "        'Duration': duration,\n",
        "        'Origin': origins,\n",
        "        'Destination': destinations,\n",
        "        'Price': prices,\n",
        "        'Seats Available': seats_available,\n",
        "        'Historical Load Factor': historical_load_factor,\n",
        "        'Competitor Price': competitor_price\n",
        "    })\n",
        "\n",
        "    return dataset\n",
        "\n",
        "# Generate the dataset\n",
        "synthetic_dataset = generate_synthetic_dataset()\n",
        "\n",
        "# Display the first few rows to verify\n",
        "print(synthetic_dataset.head())\n"
      ]
    },
    {
      "cell_type": "markdown",
      "source": [
        "# Step 2: Building the Model"
      ],
      "metadata": {
        "id": "YkQL1bL3uL5m"
      }
    },
    {
      "cell_type": "code",
      "source": [
        "from sklearn.model_selection import train_test_split\n",
        "from sklearn.linear_model import LinearRegression\n",
        "from sklearn.metrics import mean_squared_error, r2_score\n",
        "from sklearn.preprocessing import OneHotEncoder\n",
        "from sklearn.compose import ColumnTransformer\n",
        "from sklearn.pipeline import Pipeline"
      ],
      "metadata": {
        "id": "devGbIyFuPRS"
      },
      "execution_count": 2,
      "outputs": []
    },
    {
      "cell_type": "code",
      "source": [
        "# Select features and target\n",
        "X = synthetic_dataset.drop(['Flight ID', 'Date', 'Price'], axis=1)\n",
        "y = synthetic_dataset['Price']"
      ],
      "metadata": {
        "id": "BR-1E-OKuSHw"
      },
      "execution_count": 3,
      "outputs": []
    },
    {
      "cell_type": "code",
      "source": [
        "# Convert categorical features into one-hot encoded variables\n",
        "categorical_features = ['Day of Week', 'Time of Day', 'Origin', 'Destination']\n",
        "one_hot_encoder = OneHotEncoder(handle_unknown='ignore')\n",
        "preprocessor = ColumnTransformer(transformers=[('cat', one_hot_encoder, categorical_features)], remainder='passthrough')\n"
      ],
      "metadata": {
        "id": "Hc_986peuUY-"
      },
      "execution_count": 4,
      "outputs": []
    },
    {
      "cell_type": "code",
      "source": [
        "# Define the model pipeline\n",
        "model = Pipeline(steps=[('preprocessor', preprocessor),\n",
        "                        ('regressor', LinearRegression())])\n"
      ],
      "metadata": {
        "id": "_rMpmIn2uUcd"
      },
      "execution_count": 5,
      "outputs": []
    },
    {
      "cell_type": "code",
      "source": [
        "# Split the data into training and testing sets\n",
        "X_train, X_test, y_train, y_test = train_test_split(X, y, test_size=0.2, random_state=42)\n"
      ],
      "metadata": {
        "id": "uib_VjP_ubcF"
      },
      "execution_count": 6,
      "outputs": []
    },
    {
      "cell_type": "code",
      "source": [
        "# Train the model\n",
        "model.fit(X_train, y_train)"
      ],
      "metadata": {
        "colab": {
          "base_uri": "https://localhost:8080/",
          "height": 191
        },
        "id": "CuPwCLu3ubes",
        "outputId": "fae583ac-d03e-4c5b-8bf3-11694a1f7ff3"
      },
      "execution_count": 7,
      "outputs": [
        {
          "output_type": "execute_result",
          "data": {
            "text/plain": [
              "Pipeline(steps=[('preprocessor',\n",
              "                 ColumnTransformer(remainder='passthrough',\n",
              "                                   transformers=[('cat',\n",
              "                                                  OneHotEncoder(handle_unknown='ignore'),\n",
              "                                                  ['Day of Week', 'Time of Day',\n",
              "                                                   'Origin',\n",
              "                                                   'Destination'])])),\n",
              "                ('regressor', LinearRegression())])"
            ],
            "text/html": [
              "<style>#sk-container-id-1 {color: black;background-color: white;}#sk-container-id-1 pre{padding: 0;}#sk-container-id-1 div.sk-toggleable {background-color: white;}#sk-container-id-1 label.sk-toggleable__label {cursor: pointer;display: block;width: 100%;margin-bottom: 0;padding: 0.3em;box-sizing: border-box;text-align: center;}#sk-container-id-1 label.sk-toggleable__label-arrow:before {content: \"▸\";float: left;margin-right: 0.25em;color: #696969;}#sk-container-id-1 label.sk-toggleable__label-arrow:hover:before {color: black;}#sk-container-id-1 div.sk-estimator:hover label.sk-toggleable__label-arrow:before {color: black;}#sk-container-id-1 div.sk-toggleable__content {max-height: 0;max-width: 0;overflow: hidden;text-align: left;background-color: #f0f8ff;}#sk-container-id-1 div.sk-toggleable__content pre {margin: 0.2em;color: black;border-radius: 0.25em;background-color: #f0f8ff;}#sk-container-id-1 input.sk-toggleable__control:checked~div.sk-toggleable__content {max-height: 200px;max-width: 100%;overflow: auto;}#sk-container-id-1 input.sk-toggleable__control:checked~label.sk-toggleable__label-arrow:before {content: \"▾\";}#sk-container-id-1 div.sk-estimator input.sk-toggleable__control:checked~label.sk-toggleable__label {background-color: #d4ebff;}#sk-container-id-1 div.sk-label input.sk-toggleable__control:checked~label.sk-toggleable__label {background-color: #d4ebff;}#sk-container-id-1 input.sk-hidden--visually {border: 0;clip: rect(1px 1px 1px 1px);clip: rect(1px, 1px, 1px, 1px);height: 1px;margin: -1px;overflow: hidden;padding: 0;position: absolute;width: 1px;}#sk-container-id-1 div.sk-estimator {font-family: monospace;background-color: #f0f8ff;border: 1px dotted black;border-radius: 0.25em;box-sizing: border-box;margin-bottom: 0.5em;}#sk-container-id-1 div.sk-estimator:hover {background-color: #d4ebff;}#sk-container-id-1 div.sk-parallel-item::after {content: \"\";width: 100%;border-bottom: 1px solid gray;flex-grow: 1;}#sk-container-id-1 div.sk-label:hover label.sk-toggleable__label {background-color: #d4ebff;}#sk-container-id-1 div.sk-serial::before {content: \"\";position: absolute;border-left: 1px solid gray;box-sizing: border-box;top: 0;bottom: 0;left: 50%;z-index: 0;}#sk-container-id-1 div.sk-serial {display: flex;flex-direction: column;align-items: center;background-color: white;padding-right: 0.2em;padding-left: 0.2em;position: relative;}#sk-container-id-1 div.sk-item {position: relative;z-index: 1;}#sk-container-id-1 div.sk-parallel {display: flex;align-items: stretch;justify-content: center;background-color: white;position: relative;}#sk-container-id-1 div.sk-item::before, #sk-container-id-1 div.sk-parallel-item::before {content: \"\";position: absolute;border-left: 1px solid gray;box-sizing: border-box;top: 0;bottom: 0;left: 50%;z-index: -1;}#sk-container-id-1 div.sk-parallel-item {display: flex;flex-direction: column;z-index: 1;position: relative;background-color: white;}#sk-container-id-1 div.sk-parallel-item:first-child::after {align-self: flex-end;width: 50%;}#sk-container-id-1 div.sk-parallel-item:last-child::after {align-self: flex-start;width: 50%;}#sk-container-id-1 div.sk-parallel-item:only-child::after {width: 0;}#sk-container-id-1 div.sk-dashed-wrapped {border: 1px dashed gray;margin: 0 0.4em 0.5em 0.4em;box-sizing: border-box;padding-bottom: 0.4em;background-color: white;}#sk-container-id-1 div.sk-label label {font-family: monospace;font-weight: bold;display: inline-block;line-height: 1.2em;}#sk-container-id-1 div.sk-label-container {text-align: center;}#sk-container-id-1 div.sk-container {/* jupyter's `normalize.less` sets `[hidden] { display: none; }` but bootstrap.min.css set `[hidden] { display: none !important; }` so we also need the `!important` here to be able to override the default hidden behavior on the sphinx rendered scikit-learn.org. See: https://github.com/scikit-learn/scikit-learn/issues/21755 */display: inline-block !important;position: relative;}#sk-container-id-1 div.sk-text-repr-fallback {display: none;}</style><div id=\"sk-container-id-1\" class=\"sk-top-container\"><div class=\"sk-text-repr-fallback\"><pre>Pipeline(steps=[(&#x27;preprocessor&#x27;,\n",
              "                 ColumnTransformer(remainder=&#x27;passthrough&#x27;,\n",
              "                                   transformers=[(&#x27;cat&#x27;,\n",
              "                                                  OneHotEncoder(handle_unknown=&#x27;ignore&#x27;),\n",
              "                                                  [&#x27;Day of Week&#x27;, &#x27;Time of Day&#x27;,\n",
              "                                                   &#x27;Origin&#x27;,\n",
              "                                                   &#x27;Destination&#x27;])])),\n",
              "                (&#x27;regressor&#x27;, LinearRegression())])</pre><b>In a Jupyter environment, please rerun this cell to show the HTML representation or trust the notebook. <br />On GitHub, the HTML representation is unable to render, please try loading this page with nbviewer.org.</b></div><div class=\"sk-container\" hidden><div class=\"sk-item sk-dashed-wrapped\"><div class=\"sk-label-container\"><div class=\"sk-label sk-toggleable\"><input class=\"sk-toggleable__control sk-hidden--visually\" id=\"sk-estimator-id-1\" type=\"checkbox\" ><label for=\"sk-estimator-id-1\" class=\"sk-toggleable__label sk-toggleable__label-arrow\">Pipeline</label><div class=\"sk-toggleable__content\"><pre>Pipeline(steps=[(&#x27;preprocessor&#x27;,\n",
              "                 ColumnTransformer(remainder=&#x27;passthrough&#x27;,\n",
              "                                   transformers=[(&#x27;cat&#x27;,\n",
              "                                                  OneHotEncoder(handle_unknown=&#x27;ignore&#x27;),\n",
              "                                                  [&#x27;Day of Week&#x27;, &#x27;Time of Day&#x27;,\n",
              "                                                   &#x27;Origin&#x27;,\n",
              "                                                   &#x27;Destination&#x27;])])),\n",
              "                (&#x27;regressor&#x27;, LinearRegression())])</pre></div></div></div><div class=\"sk-serial\"><div class=\"sk-item sk-dashed-wrapped\"><div class=\"sk-label-container\"><div class=\"sk-label sk-toggleable\"><input class=\"sk-toggleable__control sk-hidden--visually\" id=\"sk-estimator-id-2\" type=\"checkbox\" ><label for=\"sk-estimator-id-2\" class=\"sk-toggleable__label sk-toggleable__label-arrow\">preprocessor: ColumnTransformer</label><div class=\"sk-toggleable__content\"><pre>ColumnTransformer(remainder=&#x27;passthrough&#x27;,\n",
              "                  transformers=[(&#x27;cat&#x27;, OneHotEncoder(handle_unknown=&#x27;ignore&#x27;),\n",
              "                                 [&#x27;Day of Week&#x27;, &#x27;Time of Day&#x27;, &#x27;Origin&#x27;,\n",
              "                                  &#x27;Destination&#x27;])])</pre></div></div></div><div class=\"sk-parallel\"><div class=\"sk-parallel-item\"><div class=\"sk-item\"><div class=\"sk-label-container\"><div class=\"sk-label sk-toggleable\"><input class=\"sk-toggleable__control sk-hidden--visually\" id=\"sk-estimator-id-3\" type=\"checkbox\" ><label for=\"sk-estimator-id-3\" class=\"sk-toggleable__label sk-toggleable__label-arrow\">cat</label><div class=\"sk-toggleable__content\"><pre>[&#x27;Day of Week&#x27;, &#x27;Time of Day&#x27;, &#x27;Origin&#x27;, &#x27;Destination&#x27;]</pre></div></div></div><div class=\"sk-serial\"><div class=\"sk-item\"><div class=\"sk-estimator sk-toggleable\"><input class=\"sk-toggleable__control sk-hidden--visually\" id=\"sk-estimator-id-4\" type=\"checkbox\" ><label for=\"sk-estimator-id-4\" class=\"sk-toggleable__label sk-toggleable__label-arrow\">OneHotEncoder</label><div class=\"sk-toggleable__content\"><pre>OneHotEncoder(handle_unknown=&#x27;ignore&#x27;)</pre></div></div></div></div></div></div><div class=\"sk-parallel-item\"><div class=\"sk-item\"><div class=\"sk-label-container\"><div class=\"sk-label sk-toggleable\"><input class=\"sk-toggleable__control sk-hidden--visually\" id=\"sk-estimator-id-5\" type=\"checkbox\" ><label for=\"sk-estimator-id-5\" class=\"sk-toggleable__label sk-toggleable__label-arrow\">remainder</label><div class=\"sk-toggleable__content\"><pre>[&#x27;Duration&#x27;, &#x27;Seats Available&#x27;, &#x27;Historical Load Factor&#x27;, &#x27;Competitor Price&#x27;]</pre></div></div></div><div class=\"sk-serial\"><div class=\"sk-item\"><div class=\"sk-estimator sk-toggleable\"><input class=\"sk-toggleable__control sk-hidden--visually\" id=\"sk-estimator-id-6\" type=\"checkbox\" ><label for=\"sk-estimator-id-6\" class=\"sk-toggleable__label sk-toggleable__label-arrow\">passthrough</label><div class=\"sk-toggleable__content\"><pre>passthrough</pre></div></div></div></div></div></div></div></div><div class=\"sk-item\"><div class=\"sk-estimator sk-toggleable\"><input class=\"sk-toggleable__control sk-hidden--visually\" id=\"sk-estimator-id-7\" type=\"checkbox\" ><label for=\"sk-estimator-id-7\" class=\"sk-toggleable__label sk-toggleable__label-arrow\">LinearRegression</label><div class=\"sk-toggleable__content\"><pre>LinearRegression()</pre></div></div></div></div></div></div></div>"
            ]
          },
          "metadata": {},
          "execution_count": 7
        }
      ]
    },
    {
      "cell_type": "code",
      "source": [
        "# Predict and evaluate\n",
        "y_pred = model.predict(X_test)\n",
        "mse = mean_squared_error(y_test, y_pred)\n",
        "r2 = r2_score(y_test, y_pred)"
      ],
      "metadata": {
        "id": "qqOlwByYubiM"
      },
      "execution_count": 8,
      "outputs": []
    },
    {
      "cell_type": "code",
      "source": [
        "print(f\"Mean Squared Error: {mse}\")\n",
        "print(f\"R-squared: {r2}\")"
      ],
      "metadata": {
        "colab": {
          "base_uri": "https://localhost:8080/"
        },
        "id": "KMs377-PujV-",
        "outputId": "93c0aed5-4ceb-430a-b7b6-3e6607584ae3"
      },
      "execution_count": 9,
      "outputs": [
        {
          "output_type": "stream",
          "name": "stdout",
          "text": [
            "Mean Squared Error: 56768.76543595417\n",
            "R-squared: 0.5543065023861704\n"
          ]
        }
      ]
    },
    {
      "cell_type": "markdown",
      "source": [
        "# Saving the Model"
      ],
      "metadata": {
        "id": "74cc5ibiu_gA"
      }
    },
    {
      "cell_type": "code",
      "source": [
        "import os\n",
        "from joblib import dump\n",
        "\n",
        "# Ensure the ./model directory exists\n",
        "os.makedirs('./model', exist_ok=True)\n",
        "\n",
        "# Assuming `model` is your trained model pipeline\n",
        "dump(model, './model/ticket_price_predictor.joblib')\n"
      ],
      "metadata": {
        "colab": {
          "base_uri": "https://localhost:8080/"
        },
        "id": "DsZOSH4fu90q",
        "outputId": "0129b92e-51ff-47fb-e6c4-f57203419e8d"
      },
      "execution_count": 12,
      "outputs": [
        {
          "output_type": "execute_result",
          "data": {
            "text/plain": [
              "['./model/ticket_price_predictor.joblib']"
            ]
          },
          "metadata": {},
          "execution_count": 12
        }
      ]
    }
  ]
}